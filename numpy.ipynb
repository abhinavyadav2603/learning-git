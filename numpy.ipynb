{
 "cells": [
  {
   "cell_type": "markdown",
   "id": "166c95e9-1d31-4be4-a5cf-20927768de24",
   "metadata": {},
   "source": [
    "# Numpy "
   ]
  },
  {
   "cell_type": "code",
   "execution_count": 1,
   "id": "f806f45c-1995-4f1f-9a5f-9917b6fd9b0b",
   "metadata": {},
   "outputs": [
    {
     "name": "stdout",
     "output_type": "stream",
     "text": [
      "start abhi\n"
     ]
    }
   ],
   "source": [
    "print(\"start abhi\")"
   ]
  },
  {
   "cell_type": "code",
   "execution_count": 2,
   "id": "53c6126b-e9fc-4fa4-9574-91c20cffb59f",
   "metadata": {},
   "outputs": [],
   "source": [
    "import numpy as np"
   ]
  },
  {
   "cell_type": "code",
   "execution_count": 15,
   "id": "d1117136-d5ef-442a-a804-fb6b0bb813ba",
   "metadata": {},
   "outputs": [
    {
     "data": {
      "text/plain": [
       "array([ 2,  3, 45,  6], dtype=int8)"
      ]
     },
     "execution_count": 15,
     "metadata": {},
     "output_type": "execute_result"
    }
   ],
   "source": [
    "myarr=np.array([2,3,45,6] , np.int8)\n",
    "myarr\n"
   ]
  },
  {
   "cell_type": "code",
   "execution_count": 40,
   "id": "f4f8211f-afa0-4e5c-a93f-582b4e29d972",
   "metadata": {},
   "outputs": [
    {
     "data": {
      "text/plain": [
       "np.int64(3)"
      ]
     },
     "execution_count": 40,
     "metadata": {},
     "output_type": "execute_result"
    }
   ],
   "source": [
    "myarr=np.array([3,3,45,52,])\n",
    "myarr[1]"
   ]
  },
  {
   "cell_type": "code",
   "execution_count": 43,
   "id": "065bea95-43c5-4c27-9797-8e543cb77597",
   "metadata": {},
   "outputs": [
    {
     "data": {
      "text/plain": [
       "np.int64(52)"
      ]
     },
     "execution_count": 43,
     "metadata": {},
     "output_type": "execute_result"
    }
   ],
   "source": [
    "myarr=np.array([[3,3,45,52,]])\n",
    "myarr[0,3]"
   ]
  },
  {
   "cell_type": "code",
   "execution_count": 47,
   "id": "99cc9a41-3ffd-4d27-bd2c-e746ccb973ca",
   "metadata": {},
   "outputs": [
    {
     "data": {
      "text/plain": [
       "array([[ 3,  3, 45, 89]])"
      ]
     },
     "execution_count": 47,
     "metadata": {},
     "output_type": "execute_result"
    }
   ],
   "source": [
    "myarr[0,3]=89\n",
    "myarr"
   ]
  },
  {
   "cell_type": "code",
   "execution_count": 62,
   "id": "f7b278a6-5197-42d4-9986-c569e2951f86",
   "metadata": {},
   "outputs": [
    {
     "data": {
      "text/plain": [
       "array([[1, 2, 3],\n",
       "       [4, 5, 6],\n",
       "       [7, 8, 9]])"
      ]
     },
     "execution_count": 62,
     "metadata": {},
     "output_type": "execute_result"
    }
   ],
   "source": [
    "newarray=np.array([[1,2,3],[4,5,6],[7,8,9],])\n",
    "newarray\n",
    "\n"
   ]
  },
  {
   "cell_type": "code",
   "execution_count": 60,
   "id": "9bbb870a-a53d-4387-91d1-efb1887b6033",
   "metadata": {},
   "outputs": [
    {
     "data": {
      "text/plain": [
       "dtype('int64')"
      ]
     },
     "execution_count": 60,
     "metadata": {},
     "output_type": "execute_result"
    }
   ],
   "source": [
    "newarray.dtype"
   ]
  },
  {
   "cell_type": "code",
   "execution_count": 61,
   "id": "dc4f45f1-986c-4389-9fad-012d2081df1a",
   "metadata": {},
   "outputs": [
    {
     "data": {
      "text/plain": [
       "(3, 3)"
      ]
     },
     "execution_count": 61,
     "metadata": {},
     "output_type": "execute_result"
    }
   ],
   "source": [
    "newarray.shape"
   ]
  },
  {
   "cell_type": "code",
   "execution_count": 63,
   "id": "92a26228-fa4d-4304-9f9c-b299742d5693",
   "metadata": {},
   "outputs": [
    {
     "data": {
      "text/plain": [
       "9"
      ]
     },
     "execution_count": 63,
     "metadata": {},
     "output_type": "execute_result"
    }
   ],
   "source": [
    "newarray.size"
   ]
  },
  {
   "cell_type": "code",
   "execution_count": 89,
   "id": "e6cd69ce-0b31-4033-9f30-af036d09aaca",
   "metadata": {},
   "outputs": [
    {
     "data": {
      "text/plain": [
       "array([0, 1, 2, 3, 4, 5, 6, 7, 8, 9])"
      ]
     },
     "execution_count": 89,
     "metadata": {},
     "output_type": "execute_result"
    }
   ],
   "source": [
    "rng=np.arange(10)\n",
    "rng"
   ]
  },
  {
   "cell_type": "code",
   "execution_count": null,
   "id": "060c8cc2-4557-4113-83fb-d17ddb06ae7c",
   "metadata": {},
   "outputs": [],
   "source": []
  }
 ],
 "metadata": {
  "kernelspec": {
   "display_name": "Python 3 (ipykernel)",
   "language": "python",
   "name": "python3"
  },
  "language_info": {
   "codemirror_mode": {
    "name": "ipython",
    "version": 3
   },
   "file_extension": ".py",
   "mimetype": "text/x-python",
   "name": "python",
   "nbconvert_exporter": "python",
   "pygments_lexer": "ipython3",
   "version": "3.10.11"
  }
 },
 "nbformat": 4,
 "nbformat_minor": 5
}
